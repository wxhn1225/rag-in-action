{
 "cells": [
  {
   "cell_type": "code",
   "id": "initial_id",
   "metadata": {
    "collapsed": true,
    "ExecuteTime": {
     "end_time": "2025-06-01T07:23:41.552351Z",
     "start_time": "2025-06-01T07:23:38.732978Z"
    }
   },
   "source": [
    "# 加载文档\n",
    "from langchain_community.document_loaders import WebBaseLoader\n",
    "loader = WebBaseLoader(\n",
    "    web_path=(\"https://zh.wikipedia.org/wiki/黑神话：悟空\"),\n",
    ")\n",
    "docs = loader.load()"
   ],
   "outputs": [
    {
     "name": "stderr",
     "output_type": "stream",
     "text": [
      "USER_AGENT environment variable not set, consider setting it to identify your requests.\n"
     ]
    }
   ],
   "execution_count": 1
  },
  {
   "metadata": {
    "ExecuteTime": {
     "end_time": "2025-06-01T07:23:48.505026Z",
     "start_time": "2025-06-01T07:23:48.488886Z"
    }
   },
   "cell_type": "code",
   "source": [
    "# 文本分块\n",
    "from langchain_text_splitters import RecursiveCharacterTextSplitter\n",
    "text_splitter = RecursiveCharacterTextSplitter(\n",
    "    chunk_size=1000,\n",
    "    chunk_overlap=200,\n",
    ")"
   ],
   "id": "b14a8dddb41b6ea7",
   "outputs": [],
   "execution_count": 2
  },
  {
   "metadata": {
    "ExecuteTime": {
     "end_time": "2025-06-01T07:23:51.927310Z",
     "start_time": "2025-06-01T07:23:49.412026Z"
    }
   },
   "cell_type": "code",
   "source": [
    "# 设置嵌入模型\n",
    "from langchain_openai import OpenAIEmbeddings\n",
    "embed_model = OpenAIEmbeddings()"
   ],
   "id": "eb34ae203fffc129",
   "outputs": [],
   "execution_count": 3
  },
  {
   "metadata": {
    "ExecuteTime": {
     "end_time": "2025-06-01T07:26:08.562347Z",
     "start_time": "2025-06-01T07:25:24.597201Z"
    }
   },
   "cell_type": "code",
   "source": [
    "# 设置嵌入模型，用开源模型替换OPENAI的嵌入模型\n",
    "import torch\n",
    "from langchain_community.embeddings import HuggingFaceEmbeddings\n",
    "embed_model = HuggingFaceEmbeddings(\n",
    "    model_name=\"BAAI/bge-small-zh\",\n",
    "    model_kwargs={'device': 'cuda:0' if torch.cuda.is_available() else 'cpu'},\n",
    "    encode_kwargs={'normalize_embeddings': True}\n",
    ")"
   ],
   "id": "1fcdd3a0dc83ab9d",
   "outputs": [
    {
     "data": {
      "text/plain": [
       "modules.json:   0%|          | 0.00/349 [00:00<?, ?B/s]"
      ],
      "application/vnd.jupyter.widget-view+json": {
       "version_major": 2,
       "version_minor": 0,
       "model_id": "9a907e8b636e417db94ca686a8a32b82"
      }
     },
     "metadata": {},
     "output_type": "display_data"
    },
    {
     "name": "stderr",
     "output_type": "stream",
     "text": [
      "D:\\Anaconda3\\envs\\DeepLearning\\Lib\\site-packages\\huggingface_hub\\file_download.py:143: UserWarning: `huggingface_hub` cache-system uses symlinks by default to efficiently store duplicated files but your machine does not support them in C:\\Users\\薛俊轩\\.cache\\huggingface\\hub\\models--BAAI--bge-small-zh. Caching files will still work but in a degraded version that might require more space on your disk. This warning can be disabled by setting the `HF_HUB_DISABLE_SYMLINKS_WARNING` environment variable. For more details, see https://huggingface.co/docs/huggingface_hub/how-to-cache#limitations.\n",
      "To support symlinks on Windows, you either need to activate Developer Mode or to run Python as an administrator. In order to activate developer mode, see this article: https://docs.microsoft.com/en-us/windows/apps/get-started/enable-your-device-for-development\n",
      "  warnings.warn(message)\n"
     ]
    },
    {
     "data": {
      "text/plain": [
       "config_sentence_transformers.json:   0%|          | 0.00/124 [00:00<?, ?B/s]"
      ],
      "application/vnd.jupyter.widget-view+json": {
       "version_major": 2,
       "version_minor": 0,
       "model_id": "0380cf07765e42c9b970eb7d13072328"
      }
     },
     "metadata": {},
     "output_type": "display_data"
    },
    {
     "data": {
      "text/plain": [
       "README.md:   0%|          | 0.00/27.9k [00:00<?, ?B/s]"
      ],
      "application/vnd.jupyter.widget-view+json": {
       "version_major": 2,
       "version_minor": 0,
       "model_id": "48deef12115845489fdffcc676d8c205"
      }
     },
     "metadata": {},
     "output_type": "display_data"
    },
    {
     "data": {
      "text/plain": [
       "sentence_bert_config.json:   0%|          | 0.00/52.0 [00:00<?, ?B/s]"
      ],
      "application/vnd.jupyter.widget-view+json": {
       "version_major": 2,
       "version_minor": 0,
       "model_id": "4977bc66785f41cd8cac7bdecf293bc3"
      }
     },
     "metadata": {},
     "output_type": "display_data"
    },
    {
     "data": {
      "text/plain": [
       "config.json:   0%|          | 0.00/717 [00:00<?, ?B/s]"
      ],
      "application/vnd.jupyter.widget-view+json": {
       "version_major": 2,
       "version_minor": 0,
       "model_id": "6787443bbb9b485ba31d329a48df1c46"
      }
     },
     "metadata": {},
     "output_type": "display_data"
    },
    {
     "data": {
      "text/plain": [
       "pytorch_model.bin:   0%|          | 0.00/95.8M [00:00<?, ?B/s]"
      ],
      "application/vnd.jupyter.widget-view+json": {
       "version_major": 2,
       "version_minor": 0,
       "model_id": "f25c929b3a9843c79a1e3acf74940ffc"
      }
     },
     "metadata": {},
     "output_type": "display_data"
    },
    {
     "data": {
      "text/plain": [
       "tokenizer_config.json:   0%|          | 0.00/367 [00:00<?, ?B/s]"
      ],
      "application/vnd.jupyter.widget-view+json": {
       "version_major": 2,
       "version_minor": 0,
       "model_id": "83bef0e597894a008657b4706d422c05"
      }
     },
     "metadata": {},
     "output_type": "display_data"
    },
    {
     "data": {
      "text/plain": [
       "vocab.txt:   0%|          | 0.00/110k [00:00<?, ?B/s]"
      ],
      "application/vnd.jupyter.widget-view+json": {
       "version_major": 2,
       "version_minor": 0,
       "model_id": "4fccdb95018941e0a39cd21295352586"
      }
     },
     "metadata": {},
     "output_type": "display_data"
    },
    {
     "data": {
      "text/plain": [
       "tokenizer.json:   0%|          | 0.00/439k [00:00<?, ?B/s]"
      ],
      "application/vnd.jupyter.widget-view+json": {
       "version_major": 2,
       "version_minor": 0,
       "model_id": "a97946beb27e44059448d4920022024f"
      }
     },
     "metadata": {},
     "output_type": "display_data"
    },
    {
     "data": {
      "text/plain": [
       "special_tokens_map.json:   0%|          | 0.00/125 [00:00<?, ?B/s]"
      ],
      "application/vnd.jupyter.widget-view+json": {
       "version_major": 2,
       "version_minor": 0,
       "model_id": "835dba3295674af986da18415e056ae1"
      }
     },
     "metadata": {},
     "output_type": "display_data"
    },
    {
     "data": {
      "text/plain": [
       "model.safetensors:   0%|          | 0.00/95.8M [00:00<?, ?B/s]"
      ],
      "application/vnd.jupyter.widget-view+json": {
       "version_major": 2,
       "version_minor": 0,
       "model_id": "a09aece836e84d24a3cdaaa99d89e279"
      }
     },
     "metadata": {},
     "output_type": "display_data"
    },
    {
     "data": {
      "text/plain": [
       "config.json:   0%|          | 0.00/190 [00:00<?, ?B/s]"
      ],
      "application/vnd.jupyter.widget-view+json": {
       "version_major": 2,
       "version_minor": 0,
       "model_id": "f3da140346394d0c9142edfc13814466"
      }
     },
     "metadata": {},
     "output_type": "display_data"
    }
   ],
   "execution_count": 5
  },
  {
   "metadata": {
    "ExecuteTime": {
     "end_time": "2025-06-01T07:29:53.735466Z",
     "start_time": "2025-06-01T07:29:53.009173Z"
    }
   },
   "cell_type": "code",
   "source": [
    "# 创建向量存储\n",
    "all_splits = text_splitter.split_documents(docs)\n",
    "\n",
    "from langchain_core.vectorstores import InMemoryVectorStore\n",
    "vector_store = InMemoryVectorStore(embed_model)\n",
    "vector_store.add_documents(all_splits)"
   ],
   "id": "79070375c5d2427c",
   "outputs": [
    {
     "name": "stderr",
     "output_type": "stream",
     "text": [
      "D:\\Anaconda3\\envs\\DeepLearning\\Lib\\site-packages\\transformers\\models\\bert\\modeling_bert.py:440: UserWarning: 1Torch was not compiled with flash attention. (Triggered internally at C:\\cb\\pytorch_1000000000000\\work\\aten\\src\\ATen\\native\\transformers\\cuda\\sdp_utils.cpp:263.)\n",
      "  attn_output = torch.nn.functional.scaled_dot_product_attention(\n"
     ]
    },
    {
     "data": {
      "text/plain": [
       "['7b9e745c-b63c-4730-be5c-2dbfb7d6a75c',\n",
       " 'e888de8d-7e16-4517-b68b-1aeac5af242c',\n",
       " 'cc50a5b0-491f-486e-8aa9-a4e2df2b10a9',\n",
       " 'b1a36fa8-9f1e-4895-a43b-b1e5bea7afac',\n",
       " 'e3730e72-c401-4612-a3f8-77463ae09bc4',\n",
       " '6b256a88-f408-41ef-992a-3e91c92d5ab7',\n",
       " '3eadadd3-d670-421b-b0de-cf3d00c2da67',\n",
       " '736344c1-9e8a-4533-b09f-c27c766f28a3',\n",
       " 'f669fc3d-aec7-491a-8abe-8311b8761b9d',\n",
       " 'bcf3e6be-5128-42d9-a8e7-03b62a02ed2d',\n",
       " '195af6e1-6847-43cb-94a8-766113c7514b',\n",
       " '83f16487-ca61-41f3-9f07-65ea4d7aca21',\n",
       " 'dad0746a-35d6-4672-9fdc-7903c4e62ec6',\n",
       " '09478e4b-72a8-47ca-ab72-499d83540d15',\n",
       " 'df30a0ad-37e4-437b-81ab-ab127d301e87',\n",
       " 'ba040dde-d065-4581-a737-78a9e5d526e6',\n",
       " '5bef6fd0-f222-4a42-b872-90e56d91bdf8',\n",
       " 'ac06d0c5-cbfd-4d04-bd4c-e3896108368a',\n",
       " '8fa3dcca-10a0-48ef-81bd-b29016e8a194',\n",
       " 'b408ccc8-66e2-405c-8ef7-6315a86c366e',\n",
       " 'b9caa036-9285-4ea1-8369-4a37ce15dd48',\n",
       " '4284e8ab-bd30-4f8d-9d4b-0727a26f6f24',\n",
       " '107eec90-99ad-4fe2-981e-a9a14ebaf370',\n",
       " 'd78ca3bd-da24-4ae1-ae65-3b3049e56199',\n",
       " 'dd3a6aa8-a2a6-42a8-831d-1bbac2c97fc7',\n",
       " 'c848426b-82a0-4726-8fa6-50e827f09bda',\n",
       " 'df0f41b2-5c9b-45cf-acd9-50d9c8b84fe0',\n",
       " '58b30d4b-0b7f-4c48-bdcd-4156fe039cb7',\n",
       " 'c65c84cd-e08b-4624-87be-8f9c69ad16f3',\n",
       " '14c49d4f-938e-4207-99b8-e2b7d32e1a1d',\n",
       " '6b71ac3a-4c97-433f-85e3-e75562ea5c0f',\n",
       " '14dbef25-5700-46a2-a3fa-eda1d7221f44',\n",
       " 'c5aeefaa-98c4-451e-8c03-225ea183e156',\n",
       " '41a0ad60-722c-4cbe-9ece-c46ce3afbff7',\n",
       " 'ad2859d8-6fce-44ae-8116-e61229a4ef65',\n",
       " '86bef133-6893-4949-b869-ff283a3b64d5']"
      ]
     },
     "execution_count": 8,
     "metadata": {},
     "output_type": "execute_result"
    }
   ],
   "execution_count": 8
  },
  {
   "metadata": {
    "ExecuteTime": {
     "end_time": "2025-06-01T07:30:57.935529Z",
     "start_time": "2025-06-01T07:30:57.932070Z"
    }
   },
   "cell_type": "code",
   "source": [
    "# 构建用户查询的问题\n",
    "question = \"黑神话：悟空的游戏类型是什么？\""
   ],
   "id": "685f264755a13db7",
   "outputs": [],
   "execution_count": 9
  },
  {
   "metadata": {
    "ExecuteTime": {
     "end_time": "2025-06-01T07:32:38.272529Z",
     "start_time": "2025-06-01T07:32:38.233127Z"
    }
   },
   "cell_type": "code",
   "source": [
    "# 在向量存储中搜索相关文档，并准备上下文内容\n",
    "retrieved_docs = vector_store.similarity_search(\n",
    "    question,\n",
    "    k=3\n",
    ")\n",
    "docs_content = \"\\n\\n\".join(doc.page_content for doc in retrieved_docs)\n"
   ],
   "id": "8912d7770d02baad",
   "outputs": [],
   "execution_count": 10
  },
  {
   "metadata": {
    "ExecuteTime": {
     "end_time": "2025-06-01T07:35:09.016385Z",
     "start_time": "2025-06-01T07:35:08.969130Z"
    }
   },
   "cell_type": "code",
   "source": [
    "# 构建提示词模板\n",
    "from langchain_core.prompts import ChatPromptTemplate\n",
    "prompt = ChatPromptTemplate.from_template(\n",
    "    \"\"\"基于以下上下文回答问题。如果上下文没有相关信息，请说\n",
    "    \"我无法从提供的上下文中找到相关内容\"。\n",
    "    上下文：{context}\n",
    "    问题：{question}\n",
    "    回答：\"\"\"\n",
    ")"
   ],
   "id": "1ed3d029b4a57127",
   "outputs": [],
   "execution_count": 11
  },
  {
   "metadata": {
    "ExecuteTime": {
     "end_time": "2025-06-01T07:43:55.841010Z",
     "start_time": "2025-06-01T07:43:48.752879Z"
    }
   },
   "cell_type": "code",
   "source": [
    "# 使用大模型生成回答\n",
    "from langchain_deepseek import ChatDeepSeek\n",
    "llm = ChatDeepSeek(\n",
    "    model=\"deepseek-chat\",\n",
    "    temperature=0.1,\n",
    "    max_tokens=512,\n",
    "    api_key=\"你的key\"\n",
    ")\n",
    "answer = llm.invoke(\n",
    "    prompt.format(\n",
    "        question=question,\n",
    "        context=docs_content\n",
    "    )\n",
    ")\n",
    "print(\"\\n 最终答案：\",answer.content)"
   ],
   "id": "cf4f5d3c0f55d3ea",
   "outputs": [
    {
     "name": "stdout",
     "output_type": "stream",
     "text": [
      "\n",
      " 最终答案： 根据提供的上下文，《黑神话：悟空》的游戏类型是**动作角色扮演游戏**（Action Role-Playing Game, ARPG）。\n"
     ]
    }
   ],
   "execution_count": 17
  },
  {
   "metadata": {},
   "cell_type": "code",
   "outputs": [],
   "execution_count": null,
   "source": "",
   "id": "512b592adb728322"
  }
 ],
 "metadata": {
  "kernelspec": {
   "display_name": "Python 3",
   "language": "python",
   "name": "python3"
  },
  "language_info": {
   "codemirror_mode": {
    "name": "ipython",
    "version": 2
   },
   "file_extension": ".py",
   "mimetype": "text/x-python",
   "name": "python",
   "nbconvert_exporter": "python",
   "pygments_lexer": "ipython2",
   "version": "2.7.6"
  }
 },
 "nbformat": 4,
 "nbformat_minor": 5
}
