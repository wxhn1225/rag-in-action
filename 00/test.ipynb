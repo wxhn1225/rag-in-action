{
 "cells": [
  {
   "cell_type": "code",
   "id": "initial_id",
   "metadata": {
    "collapsed": true,
    "ExecuteTime": {
     "end_time": "2025-06-10T07:32:36.206087Z",
     "start_time": "2025-06-10T07:32:35.010251Z"
    }
   },
   "source": [
    "# 加载文档\n",
    "from langchain_community.document_loaders import WebBaseLoader\n",
    "loader = WebBaseLoader(\n",
    "    web_path=(\"https://zh.wikipedia.org/wiki/黑神话：悟空\"),\n",
    ")\n",
    "docs = loader.load()"
   ],
   "outputs": [
    {
     "name": "stderr",
     "output_type": "stream",
     "text": [
      "USER_AGENT environment variable not set, consider setting it to identify your requests.\n"
     ]
    }
   ],
   "execution_count": 1
  },
  {
   "metadata": {
    "ExecuteTime": {
     "end_time": "2025-06-10T07:32:37.302199Z",
     "start_time": "2025-06-10T07:32:37.298334Z"
    }
   },
   "cell_type": "code",
   "source": [
    "# 文本分块\n",
    "from langchain_text_splitters import RecursiveCharacterTextSplitter\n",
    "text_splitter = RecursiveCharacterTextSplitter(\n",
    "    chunk_size=1000,\n",
    "    chunk_overlap=200,\n",
    ")"
   ],
   "id": "b14a8dddb41b6ea7",
   "outputs": [],
   "execution_count": 3
  },
  {
   "metadata": {
    "ExecuteTime": {
     "end_time": "2025-06-10T07:32:41.956955Z",
     "start_time": "2025-06-10T07:32:40.498661Z"
    }
   },
   "cell_type": "code",
   "source": [
    "# 设置嵌入模型\n",
    "from langchain_openai import OpenAIEmbeddings\n",
    "embed_model = OpenAIEmbeddings()"
   ],
   "id": "eb34ae203fffc129",
   "outputs": [],
   "execution_count": 4
  },
  {
   "metadata": {
    "ExecuteTime": {
     "end_time": "2025-06-10T07:33:12.539717Z",
     "start_time": "2025-06-10T07:32:43.446748Z"
    }
   },
   "cell_type": "code",
   "source": [
    "# 设置嵌入模型，用开源模型替换OPENAI的嵌入模型\n",
    "import torch\n",
    "from langchain_community.embeddings import HuggingFaceEmbeddings\n",
    "embed_model = HuggingFaceEmbeddings(\n",
    "    model_name=\"BAAI/bge-small-zh\",\n",
    "    model_kwargs={'device': 'cuda:0' if torch.cuda.is_available() else 'cpu'},\n",
    "    encode_kwargs={'normalize_embeddings': True}\n",
    ")"
   ],
   "id": "1fcdd3a0dc83ab9d",
   "outputs": [
    {
     "name": "stderr",
     "output_type": "stream",
     "text": [
      "C:\\Users\\Administrator\\AppData\\Local\\Temp\\ipykernel_12156\\4100446143.py:4: LangChainDeprecationWarning: The class `HuggingFaceEmbeddings` was deprecated in LangChain 0.2.2 and will be removed in 1.0. An updated version of the class exists in the :class:`~langchain-huggingface package and should be used instead. To use it run `pip install -U :class:`~langchain-huggingface` and import as `from :class:`~langchain_huggingface import HuggingFaceEmbeddings``.\n",
      "  embed_model = HuggingFaceEmbeddings(\n",
      "D:\\anaconda\\envs\\AI\\Lib\\site-packages\\tqdm\\auto.py:21: TqdmWarning: IProgress not found. Please update jupyter and ipywidgets. See https://ipywidgets.readthedocs.io/en/stable/user_install.html\n",
      "  from .autonotebook import tqdm as notebook_tqdm\n"
     ]
    }
   ],
   "execution_count": 5
  },
  {
   "metadata": {
    "ExecuteTime": {
     "end_time": "2025-06-10T07:33:56.297436Z",
     "start_time": "2025-06-10T07:33:54.458108Z"
    }
   },
   "cell_type": "code",
   "source": [
    "# 创建向量存储\n",
    "all_splits = text_splitter.split_documents(docs)\n",
    "\n",
    "from langchain_core.vectorstores import InMemoryVectorStore\n",
    "vector_store = InMemoryVectorStore(embed_model)\n",
    "vector_store.add_documents(all_splits)"
   ],
   "id": "79070375c5d2427c",
   "outputs": [
    {
     "data": {
      "text/plain": [
       "['ee6afa91-6fa0-4276-8d12-4283f8d9c736',\n",
       " '18be8266-ebd5-44c5-bcb2-4156a1a64ab6',\n",
       " 'f2a3011d-8708-4787-a9fb-ee620af763c5',\n",
       " '0fb2327a-a0c5-42be-aeb9-20577d0805be',\n",
       " '333cc735-2421-4f51-95d3-ae2e37e21e40',\n",
       " 'f7519c3e-79bd-4921-b4a4-2a46052264f2',\n",
       " '54df40a3-7033-40fd-a9fe-f8b6b443ec31',\n",
       " 'c823b6bf-641e-4192-aaf3-d2e6ca8778c3',\n",
       " '3c8fcc9a-c3ef-446a-816a-7b18560f3496',\n",
       " '4a7939b8-36b9-4007-b92b-d9739baed50a',\n",
       " 'ef2c832c-45f9-4e69-956b-5c3e99f41834',\n",
       " 'db6a6b44-2d7d-4689-a689-1e12964de4e4',\n",
       " 'e87b25f2-b9fd-4c5f-a74c-5bb0bea7e88f',\n",
       " '05c7e900-5b69-4651-bcfd-b46cb078c8d7',\n",
       " 'd734c4e2-015a-43bb-9dee-5d1462cd9c9f',\n",
       " 'ab313784-9759-4e2a-ae2e-c94b787d893c',\n",
       " 'dec9ab07-c014-4a8e-8014-38be80f229f4',\n",
       " 'e29f7c39-d152-4517-9a43-09252336849a',\n",
       " 'db9c655b-d101-4b59-9b3b-889a8cabac40',\n",
       " '333a5359-c2b2-452a-a978-85aef3d7f7b4',\n",
       " 'fed5b5bb-8ac8-43b1-a21f-2f77ee67e733',\n",
       " '3e58223c-45a6-410b-80a5-87d3b314c063',\n",
       " 'e2accdbf-d10c-4ccc-8d16-c6d7523fca71',\n",
       " 'e053b7d3-a093-4b07-a4c7-5510f83199de',\n",
       " '85c09d3b-4b80-4e13-9fb7-b1c12ac94af4',\n",
       " 'caeecf1c-9740-49be-a573-ce9bda01ebfd',\n",
       " 'e9a29efe-8e0d-4532-9237-e53c427ba54f',\n",
       " '3991c029-055b-4354-ac53-929f38f96265',\n",
       " 'aed1f8db-fbe0-48df-a165-7ef5a724c5b2',\n",
       " '06744387-3adb-4b41-9cff-b65d9ec828b9',\n",
       " '871ea576-3796-42dc-950b-359b075a7403',\n",
       " 'ef34bbef-1636-4b9b-bcaf-4f7dc9dad379',\n",
       " 'ed3dc019-8478-4ce2-bdc7-6cff12c8e123',\n",
       " '37ce247d-cdd1-4036-942b-b6bf1dee2e29',\n",
       " '3598f2ee-c6df-415c-bb18-f55b043e78c0',\n",
       " 'e28cbafd-f303-4cf0-a624-d90ac39a814d',\n",
       " 'fa86fe70-52cc-4145-befa-f170ad50a144']"
      ]
     },
     "execution_count": 6,
     "metadata": {},
     "output_type": "execute_result"
    }
   ],
   "execution_count": 6
  },
  {
   "metadata": {
    "ExecuteTime": {
     "end_time": "2025-06-10T07:34:30.170759Z",
     "start_time": "2025-06-10T07:34:30.166124Z"
    }
   },
   "cell_type": "code",
   "source": [
    "# 构建用户查询的问题\n",
    "question = \"黑神话：悟空的游戏类型是什么？\""
   ],
   "id": "685f264755a13db7",
   "outputs": [],
   "execution_count": 7
  },
  {
   "metadata": {
    "ExecuteTime": {
     "end_time": "2025-06-10T07:34:32.228105Z",
     "start_time": "2025-06-10T07:34:32.156149Z"
    }
   },
   "cell_type": "code",
   "source": [
    "# 在向量存储中搜索相关文档，并准备上下文内容\n",
    "retrieved_docs = vector_store.similarity_search(\n",
    "    question,\n",
    "    k=3\n",
    ")\n",
    "docs_content = \"\\n\\n\".join(doc.page_content for doc in retrieved_docs)\n"
   ],
   "id": "8912d7770d02baad",
   "outputs": [],
   "execution_count": 8
  },
  {
   "metadata": {
    "ExecuteTime": {
     "end_time": "2025-06-10T07:34:34.440158Z",
     "start_time": "2025-06-10T07:34:34.399897Z"
    }
   },
   "cell_type": "code",
   "source": [
    "# 构建提示词模板\n",
    "from langchain_core.prompts import ChatPromptTemplate\n",
    "prompt = ChatPromptTemplate.from_template(\n",
    "    \"\"\"基于以下上下文回答问题。如果上下文没有相关信息，请说\n",
    "    \"我无法从提供的上下文中找到相关内容\"。\n",
    "    上下文：{context}\n",
    "    问题：{question}\n",
    "    回答：\"\"\"\n",
    ")"
   ],
   "id": "1ed3d029b4a57127",
   "outputs": [],
   "execution_count": 9
  },
  {
   "metadata": {
    "ExecuteTime": {
     "end_time": "2025-06-10T07:35:02.840016Z",
     "start_time": "2025-06-10T07:34:56.717506Z"
    }
   },
   "cell_type": "code",
   "source": [
    "# 使用大模型生成回答\n",
    "from langchain_deepseek import ChatDeepSeek\n",
    "llm = ChatDeepSeek(\n",
    "    model=\"deepseek-chat\",\n",
    "    temperature=0.1,\n",
    "    max_tokens=512,\n",
    "    api_key=\"你的key\"\n",
    ")\n",
    "answer = llm.invoke(\n",
    "    prompt.format(\n",
    "        question=question,\n",
    "        context=docs_content\n",
    "    )\n",
    ")\n",
    "print(\"\\n 最终答案：\",answer.content)"
   ],
   "id": "cf4f5d3c0f55d3ea",
   "outputs": [
    {
     "name": "stdout",
     "output_type": "stream",
     "text": [
      "\n",
      " 最终答案： 根据提供的上下文，《黑神话：悟空》的游戏类型是**动作角色扮演游戏**（Action Role-Playing Game, ARPG）。\n"
     ]
    }
   ],
   "execution_count": 11
  },
  {
   "metadata": {},
   "cell_type": "code",
   "outputs": [],
   "execution_count": null,
   "source": "",
   "id": "512b592adb728322"
  }
 ],
 "metadata": {
  "kernelspec": {
   "display_name": "Python 3",
   "language": "python",
   "name": "python3"
  },
  "language_info": {
   "codemirror_mode": {
    "name": "ipython",
    "version": 2
   },
   "file_extension": ".py",
   "mimetype": "text/x-python",
   "name": "python",
   "nbconvert_exporter": "python",
   "pygments_lexer": "ipython2",
   "version": "2.7.6"
  }
 },
 "nbformat": 4,
 "nbformat_minor": 5
}
